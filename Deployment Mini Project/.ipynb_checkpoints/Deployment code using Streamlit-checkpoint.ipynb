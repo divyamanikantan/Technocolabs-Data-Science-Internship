{
 "cells": [
  {
   "cell_type": "markdown",
   "metadata": {},
   "source": [
    "- Import relevant packages"
   ]
  },
  {
   "cell_type": "code",
   "execution_count": 1,
   "metadata": {},
   "outputs": [],
   "source": [
    "import streamlit as st\n",
    "import pickle\n",
    "import numpy as np\n",
    "\n"
   ]
  },
  {
   "cell_type": "markdown",
   "metadata": {},
   "source": [
    "- Load the saved model"
   ]
  },
  {
   "cell_type": "code",
   "execution_count": 5,
   "metadata": {},
   "outputs": [],
   "source": [
    "model=pickle.load(open('ccmodel.pkl','rb'))"
   ]
  },
  {
   "cell_type": "markdown",
   "metadata": {},
   "source": [
    "- Function to pass the input to the model built and return output"
   ]
  },
  {
   "cell_type": "code",
   "execution_count": 7,
   "metadata": {},
   "outputs": [],
   "source": [
    "def credict_default(feat):\n",
    "    feat=np.array(feat).astype(np.float64).reshape(1,-1)\n",
    "    default = model.predict(feat)\n",
    "    predict_proba = model.predict_proba(feats)\n",
    "    return default, round(predict_proba,2)"
   ]
  },
  {
   "cell_type": "code",
   "execution_count": 8,
   "metadata": {},
   "outputs": [],
   "source": [
    "def main():\n",
    "    st.title(\"Credict Card Default Prediction\")\n",
    "    html_temp = \"\"\"\n",
    "    <div style=\"background-color:#dd88b3 ;padding:10px\">\n",
    "    <h2 style=\"color:white;text-align:center;\">Credict Card Default Prediction App </h2>\n",
    "    </div>\n",
    "    \"\"\"\n",
    "    st.markdown(html_temp, unsafe_allow_html=True)\n",
    "    LIMIT_BAL = st.text_input(\"Enter Limit Balance\")\n",
    "    EDUCATION = st.text_input(\"Enter Education (1 = graduate school; 2 = university; 3 = high school; 4 = others)\")\n",
    "    MARRIAGE = st.text_input(\"Enter marital status (1 = married; 2 = single; 3 = others)\")\n",
    "    AGE= st.text_input(\"Age (in Years)\")\n",
    "    PAY_1=st.text_input(\"Enter a number as per following:-2=New account,\\\n",
    "                        0 = minimum payment was made,yet to make full payemnt -1 = pay duly,\\\n",
    "                        1 = payment delay for 1 month,2 = payment delay for 2 months,\\\n",
    "                        3 = payment delay for 3 months,4 = payment delay for 4 months\\\n",
    "                        5 = payment delay for 5 months, 6 = payment delay for 6 months,\\\n",
    "                        7 = payment delay for 7 months\\\n",
    "                        8 = payment delay for 8 months; 9 = payment delay for nine months and above\")\n",
    "    \n",
    "     \n",
    "    BILL_AMT1 = st.text_input(\"Enter last month Bill Amount\")\n",
    "    BILL_AMT2 = st.text_input(\"Enter 2nd last month Bill Amount \")\n",
    "    BILL_AMT3 = st.text_input(\"Enter 3rd last month Bill Amount \")\n",
    "    BILL_AMT4 = st.text_input(\"Enter 4th last month Bill Amount \")\n",
    "    BILL_AMT5 = st.text_input(\"Enter 5th last month Bill Amount \")\n",
    "    BILL_AMT6 = st.text_input(\"Enter 6th last month Bill Amount \")\n",
    "\n",
    "    PAY_AMT1 = st.text_input(\"Enter Amount Paid in Last Month\")\n",
    "    PAY_AMT2 = st.text_input(\"Enter Amount Paid in 2nd Last Month\")\n",
    "    PAY_AMT3 = st.text_input(\"Enter Amount Paid in 3rd Last Month\")\n",
    "    PAY_AMT4 = st.text_input(\"Enter Amount Paid in 4th Last Month\")\n",
    "    PAY_AMT5 = st.text_input(\"Enter Amount Paid in 5th Last Month\")\n",
    "    PAY_AMT6 = st.text_input(\"Enter Amount Paid in 6th Last Month\")\n",
    "    \n",
    "    \n",
    "    safe_html=\"\"\"  \n",
    "      <div style=\"background-color:#F4D03F;padding:10px >\n",
    "       <h2 style=\"color:white;text-align:center;\"> No risk of Default </h2>\n",
    "       </div>\n",
    "    \"\"\"\n",
    "    danger_html=\"\"\"  \n",
    "      <div style=\"background-color:#F08080;padding:10px >\n",
    "       <h2 style=\"color:black ;text-align:center;\"> Default Risk</h2>\n",
    "       </div>\n",
    "    \"\"\"\n",
    "\n",
    "    if st.button(\"Predict\"):\n",
    "        features_response=['LIMIT_BAL','EDUCATION','MARRIAGE','AGE','PAY_1','BILL_AMT1','BILL_AMT2','BILL_AMT3',\n",
    "                           'BILL_AMT4','BILL_AMT5','BILL_AMT6','PAY_AMT1','PAY_AMT2','PAY_AMT3','PAY_AMT4',\n",
    "                           'PAY_AMT5','PAY_AMT6']\n",
    "        predict,probability=credict_default(features_response)\n",
    "        \n",
    "        if predict[0] == 1:\n",
    "            st.markdown(danger_html,unsafe_allow_html=True)\n",
    "            st.success('The probability of account to default {}'.format(probability*100))\n",
    "\n",
    "        else:\n",
    "            st.markdown(safe_html,unsafe_allow_html=True)\n",
    "            st.success('The probability of account to not default {}'.format(probability*100))\n",
    "\n",
    "if __name__=='__main__':\n",
    "    main()"
   ]
  }
 ],
 "metadata": {
  "kernelspec": {
   "display_name": "Python 3",
   "language": "python",
   "name": "python3"
  },
  "language_info": {
   "codemirror_mode": {
    "name": "ipython",
    "version": 3
   },
   "file_extension": ".py",
   "mimetype": "text/x-python",
   "name": "python",
   "nbconvert_exporter": "python",
   "pygments_lexer": "ipython3",
   "version": "3.7.6"
  }
 },
 "nbformat": 4,
 "nbformat_minor": 4
}
